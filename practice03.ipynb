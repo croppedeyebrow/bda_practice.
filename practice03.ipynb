{
 "cells": [
  {
   "cell_type": "markdown",
   "id": "bb252351",
   "metadata": {},
   "source": [
    "# 데이터 전처리 100문제 20~29번"
   ]
  },
  {
   "cell_type": "code",
   "execution_count": null,
   "id": "621d21d1",
   "metadata": {},
   "outputs": [],
   "source": [
    "식당 데이터"
   ]
  },
  {
   "cell_type": "code",
   "execution_count": 5,
   "id": "4831c97a",
   "metadata": {},
   "outputs": [
    {
     "name": "stdout",
     "output_type": "stream",
     "text": [
      "      order_id  quantity                              item_name  \\\n",
      "0            1         1           Chips and Fresh Tomato Salsa   \n",
      "1            1         1                                   Izze   \n",
      "2            1         1                       Nantucket Nectar   \n",
      "3            1         1  Chips and Tomatillo-Green Chili Salsa   \n",
      "4            2         2                           Chicken Bowl   \n",
      "...        ...       ...                                    ...   \n",
      "4617      1833         1                          Steak Burrito   \n",
      "4618      1833         1                          Steak Burrito   \n",
      "4619      1834         1                     Chicken Salad Bowl   \n",
      "4620      1834         1                     Chicken Salad Bowl   \n",
      "4621      1834         1                     Chicken Salad Bowl   \n",
      "\n",
      "                                     choice_description item_price  \n",
      "0                                                   NaN     $2.39   \n",
      "1                                          [Clementine]     $3.39   \n",
      "2                                               [Apple]     $3.39   \n",
      "3                                                   NaN     $2.39   \n",
      "4     [Tomatillo-Red Chili Salsa (Hot), [Black Beans...    $16.98   \n",
      "...                                                 ...        ...  \n",
      "4617  [Fresh Tomato Salsa, [Rice, Black Beans, Sour ...    $11.75   \n",
      "4618  [Fresh Tomato Salsa, [Rice, Sour Cream, Cheese...    $11.75   \n",
      "4619  [Fresh Tomato Salsa, [Fajita Vegetables, Pinto...    $11.25   \n",
      "4620  [Fresh Tomato Salsa, [Fajita Vegetables, Lettu...     $8.75   \n",
      "4621  [Fresh Tomato Salsa, [Fajita Vegetables, Pinto...     $8.75   \n",
      "\n",
      "[4622 rows x 5 columns]\n",
      "--------------------------------\n",
      "<class 'pandas.core.frame.DataFrame'>\n",
      "RangeIndex: 4622 entries, 0 to 4621\n",
      "Data columns (total 5 columns):\n",
      " #   Column              Non-Null Count  Dtype \n",
      "---  ------              --------------  ----- \n",
      " 0   order_id            4622 non-null   int64 \n",
      " 1   quantity            4622 non-null   int64 \n",
      " 2   item_name           4622 non-null   object\n",
      " 3   choice_description  3376 non-null   object\n",
      " 4   item_price          4622 non-null   object\n",
      "dtypes: int64(2), object(3)\n",
      "memory usage: 180.7+ KB\n",
      "None\n"
     ]
    }
   ],
   "source": [
    "import pandas as pd\n",
    "import numpy as np\n",
    "\n",
    "# 데이터 불러오기\n",
    "data_url ='https://raw.githubusercontent.com/Datamanim/pandas/main/chipo.csv'\n",
    "df = pd.read_csv(data_url)\n",
    "\n",
    "print(df)\n",
    "print(\"--------------------------------\")\n",
    "print(df.info())"
   ]
  },
  {
   "cell_type": "markdown",
   "id": "e2cd9827",
   "metadata": {},
   "source": [
    "Q21. quantity 컬럼 값이 3인 데이터를 추출하여 첫 5행을 출력하라."
   ]
  },
  {
   "cell_type": "code",
   "execution_count": 12,
   "id": "8987d489",
   "metadata": {},
   "outputs": [
    {
     "name": "stdout",
     "output_type": "stream",
     "text": [
      "     order_id  quantity          item_name  \\\n",
      "409       178         3       Chicken Bowl   \n",
      "445       193         3               Bowl   \n",
      "689       284         3  Canned Soft Drink   \n",
      "818       338         3      Bottled Water   \n",
      "850       350         3  Canned Soft Drink   \n",
      "\n",
      "                                    choice_description item_price  \n",
      "409  [[Fresh Tomato Salsa (Mild), Tomatillo-Green C...    $32.94   \n",
      "445  [Braised Carnitas, Pinto Beans, [Sour Cream, C...    $22.20   \n",
      "689                                        [Diet Coke]     $3.75   \n",
      "818                                                NaN     $3.27   \n",
      "850                                           [Sprite]     $3.75   \n",
      "--------------------------------\n",
      "     order_id  quantity          item_name  \\\n",
      "409       178         3       Chicken Bowl   \n",
      "445       193         3               Bowl   \n",
      "689       284         3  Canned Soft Drink   \n",
      "818       338         3      Bottled Water   \n",
      "850       350         3  Canned Soft Drink   \n",
      "\n",
      "                                    choice_description item_price  \n",
      "409  [[Fresh Tomato Salsa (Mild), Tomatillo-Green C...    $32.94   \n",
      "445  [Braised Carnitas, Pinto Beans, [Sour Cream, C...    $22.20   \n",
      "689                                        [Diet Coke]     $3.75   \n",
      "818                                                NaN     $3.27   \n",
      "850                                           [Sprite]     $3.75   \n"
     ]
    }
   ],
   "source": [
    "ad= df[df.quantity == 3]\n",
    "print(ad.head())\n",
    "\n",
    "print(\"--------------------------------\")\n",
    "# loc()의 기능은 데이터 프레임에서 특정 행과 열을 선택하는 데 사용되는 메서드.\n",
    "# df[df.quantity == 3]와 df.loc[df.quantity == 3]의 차이점은 무엇인가?\n",
    "\n",
    "# df[조건]\t간편 필터 🎣\t데이터프레임의 기본 인덱싱 기능으로 행을 필터링\t단순히 조회만 할 때\t⚠️ 불안정 (경고 발생 및 값 변경 실패 가능)\n",
    "# df.loc[조건]\t전문 지정자 📌\t행과 열을 이름(레이블)으로 정확히 지정하는 기능\t조회뿐만 아니라, 선택된 곳의 값을 변경할 때\t✅ 안정적 (가장 권장)\n",
    "\n",
    "suv= df.loc[df.quantity == 3]\n",
    "print(suv.head())"
   ]
  }
 ],
 "metadata": {
  "kernelspec": {
   "display_name": "bda_exam_env",
   "language": "python",
   "name": "python3"
  },
  "language_info": {
   "codemirror_mode": {
    "name": "ipython",
    "version": 3
   },
   "file_extension": ".py",
   "mimetype": "text/x-python",
   "name": "python",
   "nbconvert_exporter": "python",
   "pygments_lexer": "ipython3",
   "version": "3.11.13"
  }
 },
 "nbformat": 4,
 "nbformat_minor": 5
}
