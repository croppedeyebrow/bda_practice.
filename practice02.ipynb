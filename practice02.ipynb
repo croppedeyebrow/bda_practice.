{
 "cells": [
  {
   "cell_type": "markdown",
   "id": "8c40ac54",
   "metadata": {},
   "source": [
    "제주 날씨,인구에 따른 교통량데이터 : 출처 제주 데이터 허브"
   ]
  },
  {
   "cell_type": "code",
   "execution_count": 6,
   "id": "52fe214c",
   "metadata": {},
   "outputs": [
    {
     "name": "stdout",
     "output_type": "stream",
     "text": [
      "         id          일자   시도명  읍면동명         거주인구       근무인구        방문인구  \\\n",
      "0     22448  2018-01-01   제주시   도두동    32249.987   3418.266  102709.092   \n",
      "1     22449  2018-01-01   제주시   외도동   213500.997  10341.172  112692.789   \n",
      "2     22450  2018-01-01   제주시  이도2동  1212382.218  96920.834  541194.481   \n",
      "3     22451  2018-01-01   제주시  일도1동    33991.653   6034.253   72155.919   \n",
      "4     22452  2018-01-01  서귀포시   대천동   155036.925   9403.969  150882.409   \n",
      "...     ...         ...   ...   ...          ...        ...         ...   \n",
      "9616  32064  2020-04-30  서귀포시   표선면   228260.005  16891.732  152832.449   \n",
      "9617  32065  2020-04-30   제주시   한림읍   459959.064  26007.122  249700.419   \n",
      "9618  32066  2020-04-30   제주시   도두동    28397.481   3144.895   84052.697   \n",
      "9619  32067  2020-04-30  서귀포시   안덕면   348037.846  29106.286  251129.660   \n",
      "9620  32068  2020-04-30   제주시    연동  1010643.372  65673.477  447622.068   \n",
      "\n",
      "           총 유동인구   평균 속도  평균 소요 시간  평균 기온  일강수량  평균 풍속  \n",
      "0      138377.345  39.556    29.167    5.0   0.0   2.50  \n",
      "1      336534.958  32.900    30.900    5.0   0.0   2.50  \n",
      "2     1850497.533  29.538    35.692    2.9   0.0   2.40  \n",
      "3      112181.825  30.000    23.500    2.9   0.0   2.40  \n",
      "4      315323.303  41.583    14.375    5.1   0.0   2.30  \n",
      "...           ...     ...       ...    ...   ...    ...  \n",
      "9616   397984.186  44.514    34.054   18.1   0.0   4.70  \n",
      "9617   735666.605  48.609    61.377   18.0   0.0   4.35  \n",
      "9618   115595.073  41.053    29.421   20.3   0.0   3.00  \n",
      "9619   628273.792  46.595    49.189   17.6   0.0   3.50  \n",
      "9620  1523938.917  40.863    27.765   14.1   0.0   4.80  \n",
      "\n",
      "[9621 rows x 13 columns]\n",
      "--------------------------------\n",
      "<class 'pandas.core.frame.DataFrame'>\n",
      "RangeIndex: 9621 entries, 0 to 9620\n",
      "Data columns (total 13 columns):\n",
      " #   Column    Non-Null Count  Dtype  \n",
      "---  ------    --------------  -----  \n",
      " 0   id        9621 non-null   int64  \n",
      " 1   일자        9621 non-null   object \n",
      " 2   시도명       9621 non-null   object \n",
      " 3   읍면동명      9621 non-null   object \n",
      " 4   거주인구      9621 non-null   float64\n",
      " 5   근무인구      9621 non-null   float64\n",
      " 6   방문인구      9621 non-null   float64\n",
      " 7   총 유동인구    9621 non-null   float64\n",
      " 8   평균 속도     9621 non-null   float64\n",
      " 9   평균 소요 시간  9621 non-null   float64\n",
      " 10  평균 기온     9621 non-null   float64\n",
      " 11  일강수량      9621 non-null   float64\n",
      " 12  평균 풍속     9621 non-null   float64\n",
      "dtypes: float64(9), int64(1), object(3)\n",
      "memory usage: 977.3+ KB\n",
      "None\n"
     ]
    }
   ],
   "source": [
    "import pandas as pd\n",
    "import numpy as np\n",
    "\n",
    "# 데이터 불러오기\n",
    "data_url = 'https://raw.githubusercontent.com/Datamanim/pandas/main/Jeju.csv'\n",
    "df = pd.read_csv(data_url,encoding='euc-kr')\n",
    "\n",
    "print(df)\n",
    "print(\"--------------------------------\")\n",
    "print(df.info())\n",
    "\n",
    "# 데이터 전처리\n"
   ]
  },
  {
   "cell_type": "markdown",
   "id": "951b34f3",
   "metadata": {},
   "source": [
    "Q10. 데이터 마지막 3개행을 출력하라."
   ]
  },
  {
   "cell_type": "code",
   "execution_count": 5,
   "id": "c12b7530",
   "metadata": {},
   "outputs": [
    {
     "name": "stdout",
     "output_type": "stream",
     "text": [
      "         id          일자   시도명 읍면동명         거주인구       근무인구        방문인구  \\\n",
      "9618  32066  2020-04-30   제주시  도두동    28397.481   3144.895   84052.697   \n",
      "9619  32067  2020-04-30  서귀포시  안덕면   348037.846  29106.286  251129.660   \n",
      "9620  32068  2020-04-30   제주시   연동  1010643.372  65673.477  447622.068   \n",
      "\n",
      "           총 유동인구   평균 속도  평균 소요 시간  평균 기온  일강수량  평균 풍속  \n",
      "9618   115595.073  41.053    29.421   20.3   0.0    3.0  \n",
      "9619   628273.792  46.595    49.189   17.6   0.0    3.5  \n",
      "9620  1523938.917  40.863    27.765   14.1   0.0    4.8  \n"
     ]
    }
   ],
   "source": [
    "print(df.tail(3))"
   ]
  },
  {
   "cell_type": "markdown",
   "id": "e6574aa9",
   "metadata": {},
   "source": [
    "Q11.수치형 변수를 가진 컬럼을 출력하라."
   ]
  },
  {
   "cell_type": "code",
   "execution_count": 8,
   "id": "24d9cfaf",
   "metadata": {},
   "outputs": [
    {
     "name": "stdout",
     "output_type": "stream",
     "text": [
      "Index(['id', '거주인구', '근무인구', '방문인구', '총 유동인구', '평균 속도', '평균 소요 시간', '평균 기온',\n",
      "       '일강수량', '평균 풍속'],\n",
      "      dtype='object')\n"
     ]
    }
   ],
   "source": [
    "Ans = df.select_dtypes(exclude=['object']).columns\n",
    "print(Ans)"
   ]
  }
 ],
 "metadata": {
  "kernelspec": {
   "display_name": "bda_exam_env",
   "language": "python",
   "name": "python3"
  },
  "language_info": {
   "codemirror_mode": {
    "name": "ipython",
    "version": 3
   },
   "file_extension": ".py",
   "mimetype": "text/x-python",
   "name": "python",
   "nbconvert_exporter": "python",
   "pygments_lexer": "ipython3",
   "version": "3.11.13"
  }
 },
 "nbformat": 4,
 "nbformat_minor": 5
}
