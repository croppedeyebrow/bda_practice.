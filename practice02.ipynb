{
 "cells": [
  {
   "cell_type": "markdown",
   "id": "6d0ad361",
   "metadata": {},
   "source": [
    "# 데이터 전처리 100문제 11~19번"
   ]
  },
  {
   "cell_type": "markdown",
   "id": "8c40ac54",
   "metadata": {},
   "source": [
    "제주 날씨,인구에 따른 교통량데이터 : 출처 제주 데이터 허브"
   ]
  },
  {
   "cell_type": "code",
   "execution_count": 2,
   "id": "52fe214c",
   "metadata": {},
   "outputs": [
    {
     "name": "stdout",
     "output_type": "stream",
     "text": [
      "         id          일자   시도명  읍면동명         거주인구       근무인구        방문인구  \\\n",
      "0     22448  2018-01-01   제주시   도두동    32249.987   3418.266  102709.092   \n",
      "1     22449  2018-01-01   제주시   외도동   213500.997  10341.172  112692.789   \n",
      "2     22450  2018-01-01   제주시  이도2동  1212382.218  96920.834  541194.481   \n",
      "3     22451  2018-01-01   제주시  일도1동    33991.653   6034.253   72155.919   \n",
      "4     22452  2018-01-01  서귀포시   대천동   155036.925   9403.969  150882.409   \n",
      "...     ...         ...   ...   ...          ...        ...         ...   \n",
      "9616  32064  2020-04-30  서귀포시   표선면   228260.005  16891.732  152832.449   \n",
      "9617  32065  2020-04-30   제주시   한림읍   459959.064  26007.122  249700.419   \n",
      "9618  32066  2020-04-30   제주시   도두동    28397.481   3144.895   84052.697   \n",
      "9619  32067  2020-04-30  서귀포시   안덕면   348037.846  29106.286  251129.660   \n",
      "9620  32068  2020-04-30   제주시    연동  1010643.372  65673.477  447622.068   \n",
      "\n",
      "           총 유동인구   평균 속도  평균 소요 시간  평균 기온  일강수량  평균 풍속  \n",
      "0      138377.345  39.556    29.167    5.0   0.0   2.50  \n",
      "1      336534.958  32.900    30.900    5.0   0.0   2.50  \n",
      "2     1850497.533  29.538    35.692    2.9   0.0   2.40  \n",
      "3      112181.825  30.000    23.500    2.9   0.0   2.40  \n",
      "4      315323.303  41.583    14.375    5.1   0.0   2.30  \n",
      "...           ...     ...       ...    ...   ...    ...  \n",
      "9616   397984.186  44.514    34.054   18.1   0.0   4.70  \n",
      "9617   735666.605  48.609    61.377   18.0   0.0   4.35  \n",
      "9618   115595.073  41.053    29.421   20.3   0.0   3.00  \n",
      "9619   628273.792  46.595    49.189   17.6   0.0   3.50  \n",
      "9620  1523938.917  40.863    27.765   14.1   0.0   4.80  \n",
      "\n",
      "[9621 rows x 13 columns]\n",
      "--------------------------------\n",
      "<class 'pandas.core.frame.DataFrame'>\n",
      "RangeIndex: 9621 entries, 0 to 9620\n",
      "Data columns (total 13 columns):\n",
      " #   Column    Non-Null Count  Dtype  \n",
      "---  ------    --------------  -----  \n",
      " 0   id        9621 non-null   int64  \n",
      " 1   일자        9621 non-null   object \n",
      " 2   시도명       9621 non-null   object \n",
      " 3   읍면동명      9621 non-null   object \n",
      " 4   거주인구      9621 non-null   float64\n",
      " 5   근무인구      9621 non-null   float64\n",
      " 6   방문인구      9621 non-null   float64\n",
      " 7   총 유동인구    9621 non-null   float64\n",
      " 8   평균 속도     9621 non-null   float64\n",
      " 9   평균 소요 시간  9621 non-null   float64\n",
      " 10  평균 기온     9621 non-null   float64\n",
      " 11  일강수량      9621 non-null   float64\n",
      " 12  평균 풍속     9621 non-null   float64\n",
      "dtypes: float64(9), int64(1), object(3)\n",
      "memory usage: 977.3+ KB\n",
      "None\n"
     ]
    }
   ],
   "source": [
    "import pandas as pd\n",
    "import numpy as np\n",
    "\n",
    "# 데이터 불러오기\n",
    "data_url = 'https://raw.githubusercontent.com/Datamanim/pandas/main/Jeju.csv'\n",
    "df = pd.read_csv(data_url,encoding='euc-kr')\n",
    "\n",
    "print(df)\n",
    "print(\"--------------------------------\")\n",
    "print(df.info())\n",
    "\n",
    "# 데이터 전처리\n"
   ]
  },
  {
   "cell_type": "markdown",
   "id": "951b34f3",
   "metadata": {},
   "source": [
    "Q10. 데이터 마지막 3개행을 출력하라."
   ]
  },
  {
   "cell_type": "code",
   "execution_count": 5,
   "id": "c12b7530",
   "metadata": {},
   "outputs": [
    {
     "name": "stdout",
     "output_type": "stream",
     "text": [
      "         id          일자   시도명 읍면동명         거주인구       근무인구        방문인구  \\\n",
      "9618  32066  2020-04-30   제주시  도두동    28397.481   3144.895   84052.697   \n",
      "9619  32067  2020-04-30  서귀포시  안덕면   348037.846  29106.286  251129.660   \n",
      "9620  32068  2020-04-30   제주시   연동  1010643.372  65673.477  447622.068   \n",
      "\n",
      "           총 유동인구   평균 속도  평균 소요 시간  평균 기온  일강수량  평균 풍속  \n",
      "9618   115595.073  41.053    29.421   20.3   0.0    3.0  \n",
      "9619   628273.792  46.595    49.189   17.6   0.0    3.5  \n",
      "9620  1523938.917  40.863    27.765   14.1   0.0    4.8  \n"
     ]
    }
   ],
   "source": [
    "print(df.tail(3))"
   ]
  },
  {
   "cell_type": "markdown",
   "id": "e6574aa9",
   "metadata": {},
   "source": [
    "Q11.수치형 변수를 가진 컬럼을 출력하라."
   ]
  },
  {
   "cell_type": "code",
   "execution_count": 8,
   "id": "24d9cfaf",
   "metadata": {},
   "outputs": [
    {
     "name": "stdout",
     "output_type": "stream",
     "text": [
      "Index(['id', '거주인구', '근무인구', '방문인구', '총 유동인구', '평균 속도', '평균 소요 시간', '평균 기온',\n",
      "       '일강수량', '평균 풍속'],\n",
      "      dtype='object')\n"
     ]
    }
   ],
   "source": [
    "Ans = df.select_dtypes(exclude=['object']).columns\n",
    "print(Ans)"
   ]
  },
  {
   "cell_type": "markdown",
   "id": "0ec72be3",
   "metadata": {},
   "source": [
    "Q12. 범주형 변수를 가진 컬럼을 출력하라."
   ]
  },
  {
   "cell_type": "code",
   "execution_count": 9,
   "id": "69a0b506",
   "metadata": {},
   "outputs": [
    {
     "name": "stdout",
     "output_type": "stream",
     "text": [
      "Index(['일자', '시도명', '읍면동명'], dtype='object')\n"
     ]
    }
   ],
   "source": [
    "Ans = df.select_dtypes(include=['object']).columns\n",
    "print(Ans)"
   ]
  },
  {
   "cell_type": "markdown",
   "id": "40dcf2bd",
   "metadata": {},
   "source": [
    "Q13. 각 컬럼의 결측치 숫자를 파악하라."
   ]
  },
  {
   "cell_type": "code",
   "execution_count": 10,
   "id": "f43af967",
   "metadata": {},
   "outputs": [
    {
     "name": "stdout",
     "output_type": "stream",
     "text": [
      "id          0\n",
      "일자          0\n",
      "시도명         0\n",
      "읍면동명        0\n",
      "거주인구        0\n",
      "근무인구        0\n",
      "방문인구        0\n",
      "총 유동인구      0\n",
      "평균 속도       0\n",
      "평균 소요 시간    0\n",
      "평균 기온       0\n",
      "일강수량        0\n",
      "평균 풍속       0\n",
      "dtype: int64\n"
     ]
    }
   ],
   "source": [
    "#결측치 확인하는 방법 == 데이터 프레임.isnull().sum()\n",
    "\n",
    "Ans = df.isnull().sum()\n",
    "print(Ans)"
   ]
  },
  {
   "cell_type": "markdown",
   "id": "124a3690",
   "metadata": {},
   "source": [
    "Q14.각 컬럼의 데이터수, 데이터타입을 한번에 확인하라."
   ]
  },
  {
   "cell_type": "code",
   "execution_count": 11,
   "id": "dd1a655c",
   "metadata": {},
   "outputs": [
    {
     "name": "stdout",
     "output_type": "stream",
     "text": [
      "<class 'pandas.core.frame.DataFrame'>\n",
      "RangeIndex: 9621 entries, 0 to 9620\n",
      "Data columns (total 13 columns):\n",
      " #   Column    Non-Null Count  Dtype  \n",
      "---  ------    --------------  -----  \n",
      " 0   id        9621 non-null   int64  \n",
      " 1   일자        9621 non-null   object \n",
      " 2   시도명       9621 non-null   object \n",
      " 3   읍면동명      9621 non-null   object \n",
      " 4   거주인구      9621 non-null   float64\n",
      " 5   근무인구      9621 non-null   float64\n",
      " 6   방문인구      9621 non-null   float64\n",
      " 7   총 유동인구    9621 non-null   float64\n",
      " 8   평균 속도     9621 non-null   float64\n",
      " 9   평균 소요 시간  9621 non-null   float64\n",
      " 10  평균 기온     9621 non-null   float64\n",
      " 11  일강수량      9621 non-null   float64\n",
      " 12  평균 풍속     9621 non-null   float64\n",
      "dtypes: float64(9), int64(1), object(3)\n",
      "memory usage: 977.3+ KB\n",
      "None\n"
     ]
    }
   ],
   "source": [
    "#데이터수,데이터타입 한번에 확인.\n",
    "print(df.info())"
   ]
  },
  {
   "cell_type": "markdown",
   "id": "fe439d7d",
   "metadata": {},
   "source": [
    "Q15.각 수치형 변수의 분포(사분위, 평균, 표준편차, 최대, 최소)를 확인하라."
   ]
  },
  {
   "cell_type": "code",
   "execution_count": 16,
   "id": "6951667a",
   "metadata": {},
   "outputs": [
    {
     "name": "stdout",
     "output_type": "stream",
     "text": [
      "                 id          거주인구           근무인구           방문인구        총 유동인구  \\\n",
      "count   9621.000000  9.621000e+03    9621.000000    9621.000000  9.621000e+03   \n",
      "mean   27258.000000  3.174315e+05   35471.201510  195889.561802  5.487922e+05   \n",
      "std     2777.487804  2.982079e+05   40381.214775  140706.090325  4.608802e+05   \n",
      "min    22448.000000  9.305552e+03    1407.936000   11538.322000  2.225181e+04   \n",
      "25%    24853.000000  9.539939e+04   12074.498000   99632.153000  2.216910e+05   \n",
      "50%    27258.000000  2.221105e+05   21960.928000  152805.335000  3.866935e+05   \n",
      "75%    29663.000000  4.106671e+05   40192.032000  236325.109000  6.406918e+05   \n",
      "max    32068.000000  1.364504e+06  263476.965000  723459.209000  2.066484e+06   \n",
      "\n",
      "             평균 속도     평균 소요 시간        평균 기온         일강수량        평균 풍속  \n",
      "count  9621.000000  9621.000000  9621.000000  9621.000000  9621.000000  \n",
      "mean     41.109084    37.215873    13.550828     6.972426     2.753171  \n",
      "std       8.758631    12.993786     7.745515    27.617260     1.498538  \n",
      "min      24.333000    12.667000    -9.600000     0.000000     0.000000  \n",
      "25%      34.250000    27.889000     7.600000     0.000000     1.700000  \n",
      "50%      39.640000    34.500000    13.400000     0.000000     2.400000  \n",
      "75%      49.105000    46.176000    19.700000     1.500000     3.400000  \n",
      "max     103.000000   172.200000    30.400000   587.500000    13.333000  \n",
      "--------------------------------\n",
      "                 id          거주인구           근무인구           방문인구        총 유동인구  \\\n",
      "count   9621.000000  9.621000e+03    9621.000000    9621.000000  9.621000e+03   \n",
      "mean   27258.000000  3.174315e+05   35471.201510  195889.561802  5.487922e+05   \n",
      "std     2777.487804  2.982079e+05   40381.214775  140706.090325  4.608802e+05   \n",
      "min    22448.000000  9.305552e+03    1407.936000   11538.322000  2.225181e+04   \n",
      "25%    24853.000000  9.539939e+04   12074.498000   99632.153000  2.216910e+05   \n",
      "50%    27258.000000  2.221105e+05   21960.928000  152805.335000  3.866935e+05   \n",
      "75%    29663.000000  4.106671e+05   40192.032000  236325.109000  6.406918e+05   \n",
      "max    32068.000000  1.364504e+06  263476.965000  723459.209000  2.066484e+06   \n",
      "\n",
      "             평균 속도     평균 소요 시간        평균 기온         일강수량        평균 풍속  \n",
      "count  9621.000000  9621.000000  9621.000000  9621.000000  9621.000000  \n",
      "mean     41.109084    37.215873    13.550828     6.972426     2.753171  \n",
      "std       8.758631    12.993786     7.745515    27.617260     1.498538  \n",
      "min      24.333000    12.667000    -9.600000     0.000000     0.000000  \n",
      "25%      34.250000    27.889000     7.600000     0.000000     1.700000  \n",
      "50%      39.640000    34.500000    13.400000     0.000000     2.400000  \n",
      "75%      49.105000    46.176000    19.700000     1.500000     3.400000  \n",
      "max     103.000000   172.200000    30.400000   587.500000    13.333000  \n"
     ]
    }
   ],
   "source": [
    "# 분포를 확인하는 방법 == 데이터 프레임.describe()\n",
    "\n",
    "Ans=df.describe()\n",
    "print(Ans)\n",
    "\n",
    "print(\"--------------------------------\")\n",
    "\n",
    "Ans1=df.select_dtypes(exclude=['object']).describe()\n",
    "print(Ans1)\n",
    "\n"
   ]
  },
  {
   "cell_type": "markdown",
   "id": "db7810e0",
   "metadata": {},
   "source": [
    "Q16. 거주인구 컬럼의 값들을 출력하라.\n"
   ]
  },
  {
   "cell_type": "code",
   "execution_count": 19,
   "id": "627fe586",
   "metadata": {},
   "outputs": [
    {
     "name": "stdout",
     "output_type": "stream",
     "text": [
      "0         32249.987\n",
      "1        213500.997\n",
      "2       1212382.218\n",
      "3         33991.653\n",
      "4        155036.925\n",
      "           ...     \n",
      "9616     228260.005\n",
      "9617     459959.064\n",
      "9618      28397.481\n",
      "9619     348037.846\n",
      "9620    1010643.372\n",
      "Name: 거주인구, Length: 9621, dtype: float64\n"
     ]
    }
   ],
   "source": [
    "#거주인구 컬럼의 값들을 출력하라.\n",
    "\n",
    "Ans=df['거주인구']\n",
    "print(Ans)"
   ]
  },
  {
   "cell_type": "markdown",
   "id": "8dee813a",
   "metadata": {},
   "source": [
    "Q17. 평균 속도 컬럼의 4분위 범위(IQR) 값을 구하여라.\n"
   ]
  },
  {
   "cell_type": "code",
   "execution_count": 6,
   "id": "81f452dc",
   "metadata": {},
   "outputs": [
    {
     "name": "stdout",
     "output_type": "stream",
     "text": [
      "0       39.556\n",
      "1       32.900\n",
      "2       29.538\n",
      "3       30.000\n",
      "4       41.583\n",
      "         ...  \n",
      "9616    44.514\n",
      "9617    48.609\n",
      "9618    41.053\n",
      "9619    46.595\n",
      "9620    40.863\n",
      "Name: 평균 속도, Length: 9621, dtype: float64\n"
     ]
    },
    {
     "data": {
      "text/plain": [
       "np.float64(14.855)"
      ]
     },
     "execution_count": 6,
     "metadata": {},
     "output_type": "execute_result"
    }
   ],
   "source": [
    "avg = df['평균 속도']\n",
    "print(avg)\n",
    "# 4분위 범위(IQR) 값은 데이터의 중간 50%의 산포도(퍼진 정도)를 나타내는 통게적 척도.\n",
    "# 제 3사분위수 - 제 1사분위수 = IQR\n",
    "\n",
    "\n",
    "IQR = df['평균 속도'].quantile(0.75) - df['평균 속도'].quantile(0.25)\n",
    "#quantile : 백분위수 구하는 모듈.\n",
    "#round : 반올림 모듈.\n",
    "\n",
    "round(IQR,3)"
   ]
  },
  {
   "cell_type": "markdown",
   "id": "bfa473f5",
   "metadata": {},
   "source": [
    "Q18. 읍면동명 컬럼의 유일값 갯수를 출력하라."
   ]
  },
  {
   "cell_type": "code",
   "execution_count": 9,
   "id": "9edf84ed",
   "metadata": {},
   "outputs": [
    {
     "name": "stdout",
     "output_type": "stream",
     "text": [
      "41\n"
     ]
    }
   ],
   "source": [
    "df[['읍면동명']]\n",
    "#유일값을 구하는 판다스 메서드 : unique()\n",
    "#유일값의 갯수를 구하는 판다스의 메서드 : nunique()\n",
    "\n",
    "Ans = df['읍면동명'].nunique()\n",
    "print(Ans)\n",
    "\n",
    "\n",
    "\n"
   ]
  },
  {
   "cell_type": "markdown",
   "id": "89cb4a5d",
   "metadata": {},
   "source": [
    "Q19.읍면동명 컬럼의 유일값을 모두 출력하라"
   ]
  },
  {
   "cell_type": "code",
   "execution_count": null,
   "id": "06ac40e5",
   "metadata": {},
   "outputs": [
    {
     "data": {
      "text/plain": [
       "array(['도두동', '외도동', '이도2동', '일도1동', '대천동', '서홍동', '한경면', '송산동', '조천읍',\n",
       "       '일도2동', '영천동', '예래동', '대륜동', '삼도1동', '이호동', '건입동', '중앙동', '삼양동',\n",
       "       '삼도2동', '이도1동', '남원읍', '대정읍', '정방동', '효돈동', '아라동', '한림읍', '구좌읍',\n",
       "       '용담1동', '오라동', '화북동', '연동', '표선면', '중문동', '성산읍', '안덕면', '천지동',\n",
       "       '노형동', '동홍동', '용담2동', '봉개동', '애월읍'], dtype=object)"
      ]
     },
     "execution_count": 12,
     "metadata": {},
     "output_type": "execute_result"
    }
   ],
   "source": [
    "df[['읍면동명']]\n",
    "\n",
    "df['읍면동명'].unique()\n",
    "\n",
    "#array는 넘파이의 타입."
   ]
  }
 ],
 "metadata": {
  "kernelspec": {
   "display_name": "bda_exam_env",
   "language": "python",
   "name": "python3"
  },
  "language_info": {
   "codemirror_mode": {
    "name": "ipython",
    "version": 3
   },
   "file_extension": ".py",
   "mimetype": "text/x-python",
   "name": "python",
   "nbconvert_exporter": "python",
   "pygments_lexer": "ipython3",
   "version": "3.11.13"
  }
 },
 "nbformat": 4,
 "nbformat_minor": 5
}
