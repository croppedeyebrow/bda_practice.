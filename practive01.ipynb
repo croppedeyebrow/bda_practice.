{
 "cells": [
  {
   "cell_type": "markdown",
   "id": "9d5ac86a",
   "metadata": {},
   "source": [
    "빅데이터 분석기사 실기 연습 01.\n"
   ]
  },
  {
   "cell_type": "code",
   "execution_count": null,
   "id": "4e0ac6c8",
   "metadata": {
    "vscode": {
     "languageId": "plaintext"
    }
   },
   "outputs": [],
   "source": []
  }
 ],
 "metadata": {
  "language_info": {
   "name": "python"
  }
 },
 "nbformat": 4,
 "nbformat_minor": 5
}
